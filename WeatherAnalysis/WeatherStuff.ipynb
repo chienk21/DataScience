{
 "metadata": {
  "language_info": {
   "codemirror_mode": {
    "name": "ipython",
    "version": 3
   },
   "file_extension": ".py",
   "mimetype": "text/x-python",
   "name": "python",
   "nbconvert_exporter": "python",
   "pygments_lexer": "ipython3",
   "version": "3.9.1-final"
  },
  "orig_nbformat": 2,
  "kernelspec": {
   "name": "python3",
   "display_name": "Python 3.9.1 64-bit",
   "metadata": {
    "interpreter": {
     "hash": "aee8b7b246df8f9039afb4144a1f6fd8d2ca17a180786b69acc140d282b71a49"
    }
   }
  }
 },
 "nbformat": 4,
 "nbformat_minor": 2,
 "cells": [
  {
   "source": [
    "# Weather Temperature Analysis\n",
    "\n",
    "We use weather temperatures from 1973-2021 from the DFW airport to find average maximum temperatures. We are also able to clean up the data set and remove null values in order to properly analyze the data."
   ],
   "cell_type": "markdown",
   "metadata": {}
  },
  {
   "source": [
    "Import NumPy to rad the data from the `data` variable"
   ],
   "cell_type": "markdown",
   "metadata": {}
  },
  {
   "cell_type": "code",
   "execution_count": 13,
   "metadata": {},
   "outputs": [],
   "source": [
    "import numpy as np"
   ]
  },
  {
   "source": [
    "Read data file. We need to skip the header using the `skip_header` parameter because that is not a part of the data and select the values we want to use using the `usecols()` parameter. "
   ],
   "cell_type": "markdown",
   "metadata": {}
  },
  {
   "cell_type": "code",
   "execution_count": 6,
   "metadata": {},
   "outputs": [
    {
     "output_type": "stream",
     "name": "stdout",
     "text": [
      "[[1973.    18.1   24.7   12.8]\n [1974.    18.6   25.5   13. ]\n [1975.    18.5   25.9   12. ]\n [1976.    17.8   25.6   11.1]\n [1977.    18.8   26.4   12. ]\n [1978.    17.8   25.4   11.1]\n [1979.    17.5   24.9   10.9]\n [1980.    19.1   27.    12.1]\n [1981.    18.4   25.8   11.7]\n [1982.    18.3   25.6   12.1]\n [1983.    17.3   24.2   11.1]\n [1984.    18.6   26.    12.6]\n [1985.    18.3   25.4   12.1]\n [1986.    18.8   25.8   12.9]\n [1987.    18.5   25.9   11.8]\n [1988.    18.7   26.4   12.1]\n [1989.    17.9   25.4   11.8]\n [1990.    19.3   26.6   12.5]\n [1991.    18.7   25.8   12.3]\n [1992.    18.7   25.6   12.5]\n [1993.    18.4   25.3   12.2]\n [1994.    18.9   25.8   12.5]\n [1995.    18.8   26.    12.2]\n [1996.    18.4   25.5   12.5]\n [1997.    18.    23.8   13.3]\n [1998.    20.3   26.1   15.5]\n [1999.    20.3   26.9   14.7]\n [2000.    19.7   26.4   13.7]\n [2001.    18.6   25.1   12.8]\n [2002.     nan    nan    nan]\n [2003.    18.9   26.1   12.7]\n [2004.    19.1   25.6   13.4]\n [2005.     nan    nan    nan]\n [2006.    20.7   28.1   14.2]\n [2007.    19.6   25.9   14.1]\n [2008.    20.3   27.8   13.7]\n [2009.    19.    26.2   12.9]\n [2010.    19.3   26.1   13.2]\n [2011.    20.3   27.4   13.7]\n [2012.    20.6   27.8   14.2]\n [2013.    19.    26.    12.5]\n [2014.    18.9   26.2   12.4]\n [2015.    19.5   26.1   13.4]\n [2016.    20.5   27.2   14.6]\n [2017.    20.9   28.1   14.7]\n [2018.    19.4   26.3   13.5]\n [2019.    19.    25.9   13. ]\n [2020.    19.4   26.3   13.1]\n [2021.     nan    nan    nan]]\n"
     ]
    }
   ],
   "source": [
    "import numpy as np\n",
    "\n",
    "fp = '/Users/kayleechien/OneDrive - Greenhill School/DataScience/WeatherAnalysis/WeatherDataSet.txt'\n",
    "data = np.genfromtxt(fp, skip_header=1, usecols=(0, 1, 2, 3))\n",
    "print(data)"
   ]
  },
  {
   "source": [
    "Use array splicing to only the dates into an array. Then we can try to get the average temperatures, maximum temperatures, and minimum temperatures using array splicing. Using `min()` and `max()` functions, we can get the minimum and maximum dates from the data. "
   ],
   "cell_type": "markdown",
   "metadata": {}
  },
  {
   "cell_type": "code",
   "execution_count": 7,
   "metadata": {},
   "outputs": [
    {
     "output_type": "stream",
     "name": "stdout",
     "text": [
      "[[1973.    18.1   24.7   12.8]\n [1974.    18.6   25.5   13. ]\n [1975.    18.5   25.9   12. ]\n [1976.    17.8   25.6   11.1]\n [1977.    18.8   26.4   12. ]\n [1978.    17.8   25.4   11.1]\n [1979.    17.5   24.9   10.9]\n [1980.    19.1   27.    12.1]\n [1981.    18.4   25.8   11.7]\n [1982.    18.3   25.6   12.1]\n [1983.    17.3   24.2   11.1]\n [1984.    18.6   26.    12.6]\n [1985.    18.3   25.4   12.1]\n [1986.    18.8   25.8   12.9]\n [1987.    18.5   25.9   11.8]\n [1988.    18.7   26.4   12.1]\n [1989.    17.9   25.4   11.8]\n [1990.    19.3   26.6   12.5]\n [1991.    18.7   25.8   12.3]\n [1992.    18.7   25.6   12.5]\n [1993.    18.4   25.3   12.2]\n [1994.    18.9   25.8   12.5]\n [1995.    18.8   26.    12.2]\n [1996.    18.4   25.5   12.5]\n [1997.    18.    23.8   13.3]\n [1998.    20.3   26.1   15.5]\n [1999.    20.3   26.9   14.7]\n [2000.    19.7   26.4   13.7]\n [2001.    18.6   25.1   12.8]\n [2002.     nan    nan    nan]\n [2003.    18.9   26.1   12.7]\n [2004.    19.1   25.6   13.4]\n [2005.     nan    nan    nan]\n [2006.    20.7   28.1   14.2]\n [2007.    19.6   25.9   14.1]\n [2008.    20.3   27.8   13.7]\n [2009.    19.    26.2   12.9]\n [2010.    19.3   26.1   13.2]\n [2011.    20.3   27.4   13.7]\n [2012.    20.6   27.8   14.2]\n [2013.    19.    26.    12.5]\n [2014.    18.9   26.2   12.4]\n [2015.    19.5   26.1   13.4]\n [2016.    20.5   27.2   14.6]\n [2017.    20.9   28.1   14.7]\n [2018.    19.4   26.3   13.5]\n [2019.    19.    25.9   13. ]\n [2020.    19.4   26.3   13.1]\n [2021.     nan    nan    nan]]\n[1973. 1974. 1975. 1976. 1977. 1978. 1979. 1980. 1981. 1982. 1983. 1984.\n 1985. 1986. 1987. 1988. 1989. 1990. 1991. 1992. 1993. 1994. 1995. 1996.\n 1997. 1998. 1999. 2000. 2001. 2002. 2003. 2004. 2005. 2006. 2007. 2008.\n 2009. 2010. 2011. 2012. 2013. 2014. 2015. 2016. 2017. 2018. 2019. 2020.\n 2021.]\n1973.0\n2021.0\n"
     ]
    }
   ],
   "source": [
    "import numpy as np\n",
    "\n",
    "fp = '/Users/kayleechien/OneDrive - Greenhill School/DataScience/WeatherAnalysis/WeatherDataSet.txt'\n",
    "data = np.genfromtxt(fp, skip_header=1, usecols=(0, 1, 2, 3))\n",
    "print(data)\n",
    "date = data[:,0]\n",
    "print(date)\n",
    "temp_avg = data[:,1]\n",
    "temp_max = data[:,2]\n",
    "temp_min = data[:,3]\n",
    "\n",
    "\n",
    "print(date.min())\n",
    "print(date.max())"
   ]
  },
  {
   "cell_type": "code",
   "execution_count": 9,
   "metadata": {},
   "outputs": [
    {
     "output_type": "stream",
     "name": "stdout",
     "text": [
      "Number of days: 49\n"
     ]
    }
   ],
   "source": [
    "#finding the number of days \n",
    "date_mask = np.isfinite(date)\n",
    "print(\"Number of days:\", np.count_nonzero(date_mask))"
   ]
  },
  {
   "cell_type": "code",
   "execution_count": 11,
   "metadata": {},
   "outputs": [
    {
     "output_type": "stream",
     "name": "stdout",
     "text": [
      "Number of missing days: 0\n"
     ]
    }
   ],
   "source": [
    "import numpy as np\n",
    "\n",
    "fp = '/Users/kayleechien/OneDrive - Greenhill School/DataScience/WeatherAnalysis/WeatherDataSet.txt'\n",
    "data = np.genfromtxt(fp, skip_header=1, usecols=(0, 1, 2, 3))\n",
    "date = data[:,0]\n",
    "temp_avg = data[:,1]\n",
    "temp_max = data[:,2]\n",
    "temp_min = data[:,3]\n",
    "#finding the number of missing days in the data\n",
    "missing_date_mask = ~np.isfinite(date)\n",
    "print(\"Number of missing days:\", np.count_nonzero(missing_date_mask))"
   ]
  },
  {
   "cell_type": "code",
   "execution_count": 14,
   "metadata": {},
   "outputs": [
    {
     "output_type": "stream",
     "name": "stdout",
     "text": [
      "Number of average temps: 46\n"
     ]
    }
   ],
   "source": [
    "#finding average temperature days\n",
    "tavg_mask = np.isfinite(temp_avg)\n",
    "print(\"Number of average temps:\", np.count_nonzero(tavg_mask))"
   ]
  },
  {
   "cell_type": "code",
   "execution_count": 15,
   "metadata": {},
   "outputs": [
    {
     "output_type": "stream",
     "name": "stdout",
     "text": [
      "Number of missing tmax values: 3\n"
     ]
    }
   ],
   "source": [
    "#checking for missing data\n",
    "missing_tmax_mask = ~np.isfinite(temp_max)\n",
    "print(\"Number of missing tmax values:\", np.count_nonzero(missing_tmax_mask))"
   ]
  },
  {
   "cell_type": "code",
   "execution_count": 17,
   "metadata": {},
   "outputs": [],
   "source": [
    "#Make a mask array, then remove bad values using the mask.\n",
    "tmax_mask = np.isfinite(temp_max)\n",
    "tmax_clean = temp_max[tmax_mask]"
   ]
  },
  {
   "cell_type": "code",
   "execution_count": 18,
   "metadata": {},
   "outputs": [],
   "source": [
    "#We can also remove the corresponding dates by using the same mask (tmax_mask) on our date array.\n",
    "date_clean = date[tmax_mask]\n",
    "\n"
   ]
  },
  {
   "cell_type": "code",
   "execution_count": 19,
   "metadata": {},
   "outputs": [
    {
     "output_type": "stream",
     "name": "stdout",
     "text": [
      "26.041304347826085\n"
     ]
    }
   ],
   "source": [
    "#average annual temperature, use a range of dates to find the average maximum temperature for one year\n",
    "tmax_total = tmax_clean[(date_clean >= 1973) & (date_clean <= 2021)]\n",
    "print(tmax_total.mean())"
   ]
  },
  {
   "cell_type": "code",
   "execution_count": null,
   "metadata": {},
   "outputs": [],
   "source": []
  }
 ]
}