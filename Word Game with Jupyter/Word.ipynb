{
 "metadata": {
  "language_info": {
   "codemirror_mode": {
    "name": "ipython",
    "version": 3
   },
   "file_extension": ".py",
   "mimetype": "text/x-python",
   "name": "python",
   "nbconvert_exporter": "python",
   "pygments_lexer": "ipython3",
   "version": "3.9.1-final"
  },
  "orig_nbformat": 2,
  "kernelspec": {
   "name": "python3",
   "display_name": "Python 3.9.1 64-bit",
   "metadata": {
    "interpreter": {
     "hash": "7812ea015bdcee6f23a998adcdd2ef97c151c0c241b7b7070987d9313e41299d"
    }
   }
  }
 },
 "nbformat": 4,
 "nbformat_minor": 2,
 "cells": [
  {
   "source": [
    "Create a list of words, we pick one random word, we ask the user to guess that word\n",
    "input, random, time to delay\n",
    "\n",
    "GAME RULES: shows the user the list of words depending on level of difficulty chosen, gives the user 5 tries to guess the word and the user can input one letter or multiple letters,\n",
    "each time the user attempts to guess the turns will decrease until they guess correctly\n"
   ],
   "cell_type": "markdown",
   "metadata": {}
  },
  {
   "cell_type": "code",
   "execution_count": 18,
   "metadata": {},
   "outputs": [],
   "source": [
    "import random\n",
    "import time\n",
    "\n",
    "#retrieves the words from a file\n",
    "def game_data(levelOfDifficulty):\n",
    "    file1 = open(\"RandomFile.txt\",\"r\")\n",
    "    lines = file1.readlines()\n",
    "    #returns a list of words\n",
    "    #each line in the file is considered an element (1st line is 0 index, etc.)\n",
    "    return(lines[levelOfDifficulty-1].strip().split(\",\"))"
   ]
  },
  {
   "source": [
    "Define the function of the game"
   ],
   "cell_type": "markdown",
   "metadata": {}
  },
  {
   "cell_type": "code",
   "execution_count": null,
   "metadata": {},
   "outputs": [],
   "source": [
    "def game():"
   ]
  },
  {
   "source": [
    "Prompt the user to input their name"
   ],
   "cell_type": "markdown",
   "metadata": {}
  },
  {
   "cell_type": "code",
   "execution_count": 12,
   "metadata": {},
   "outputs": [
    {
     "output_type": "stream",
     "name": "stdout",
     "text": [
      "kaylee\n"
     ]
    }
   ],
   "source": [
    "def game():\n",
    "    name = input(\"What is your name? \")\n",
    "    print(name)\n",
    "game()"
   ]
  },
  {
   "source": [
    "ask user for information\n"
   ],
   "cell_type": "markdown",
   "metadata": {}
  },
  {
   "cell_type": "code",
   "execution_count": 15,
   "metadata": {},
   "outputs": [
    {
     "output_type": "stream",
     "name": "stdout",
     "text": [
      "yes\n"
     ]
    }
   ],
   "source": [
    "def game():\n",
    "    # ask user for information\n",
    "    name = input(\"What is your name? \")\n",
    "\n",
    "    # create a list of words\n",
    "    # pick a random word\n",
    "    # the user to guess\n",
    "    #print(name,end=', ')\n",
    "    game = input(\"do you want to play? \")\n",
    "    print(game)\n",
    "game()\n"
   ]
  },
  {
   "cell_type": "code",
   "execution_count": 24,
   "metadata": {},
   "outputs": [],
   "source": [
    "import random\n",
    "import time\n",
    "\n",
    "#retrieves the words from a file\n",
    "def game_data(levelOfDifficulty):\n",
    "    file1 = open(\"RandomFile.txt\",\"r\")\n",
    "    lines = file1.readlines()\n",
    "    #returns a list of words\n",
    "    #each line in the file is considered an element (1st line is 0 index, etc.)\n",
    "    return(lines[levelOfDifficulty-1].strip().split(\",\"))\n",
    "\n",
    "def game():\n",
    "    # ask user for information\n",
    "    name = input(\"What is your name? \")\n",
    "\n",
    "    # create a list of words\n",
    "    # pick a random word\n",
    "    # the user to guess\n",
    "    print(name,end=', ')\n",
    "    game = input(\"do you want to play? \")\n",
    "\n",
    "    while game == 'yes':\n",
    "        levelOfDifficulty = int(input(\"Which level do you want to play? (1- easy, 2- medium, 3- hard) \"))\n",
    "        #calls the game_data function which returns the list of words\n",
    "        level_list = game_data(levelOfDifficulty)\n",
    "        print(\"Here are the words to guess from: \", level_list)\n",
    "        #getting the random word\n",
    "        randomWord = random.choice(level_list)\n",
    "\n",
    "        guess = ''\n",
    "        turns = 5\n",
    "        won = False\n",
    "        #tracks only the right guesses\n",
    "        hit = ''\n",
    "\n",
    "        print (name, \", you have 5 turns to guess the word\")\n",
    "        while turns > 0:\n",
    "            for char in randomWord:\n",
    "                if char in guess:\n",
    "                    print(char, end=' ')\n",
    "                    #Need to record the 'hit' from the guess so the wrong guess will be excluded\n",
    "                    hit += char\n",
    "                else:\n",
    "                    print('_', end=' ')\n",
    "\n",
    "            #adds letter to the output of the game and if you guessed right then breaks out of loop and prints congrats\n",
    "            if not won:\n",
    "                guess = hit \n",
    "                print(name, end=', ')\n",
    "                letter = input(\"please give me a letter or letters: \")\n",
    "                guess +=letter\n",
    "            else:\n",
    "                print(\"\\nCongratulations! You guessed the word correctly!\")\n",
    "                turns = 0\n",
    "                break \n",
    "            \n",
    "            #compares the randomWord with the correct guessed values using sets which are \n",
    "            if sorted(''.join(set(randomWord))) == sorted(''.join(set(guess))): \n",
    "                #if the user guesses the word, we need to set won to true\n",
    "                won = True\n",
    "            else: \n",
    "                turns -= 1\n",
    "                print(\"you have \", str(turns), \" turn(s) left\")\n",
    "            \n",
    "\n",
    "        game = input(name + \" do you want to play again? (yes or no)\")\n",
    "\n",
    "    print(name + \", come back anytime!\")\n",
    "    time.sleep(2)\n"
   ]
  },
  {
   "cell_type": "code",
   "execution_count": 32,
   "metadata": {},
   "outputs": [
    {
     "output_type": "stream",
     "name": "stdout",
     "text": [
      "kaylee, Here are the words to guess from:  ['apple', 'orange', 'grape', 'berry', 'fruit']\n",
      "kaylee , you have 5 turns to guess the word\n",
      "_ _ _ _ _ kaylee, you have  4  turn(s) left\n",
      "_ _ a _ _ kaylee, you have  3  turn(s) left\n",
      "_ _ a _ _ kaylee, you have  2  turn(s) left\n",
      "_ _ a _ _ kaylee, you have  1  turn(s) left\n",
      "_ _ a _ _ kaylee, you have  0  turn(s) left\n",
      "kaylee, come back anytime!\n"
     ]
    }
   ],
   "source": [
    "def main():\n",
    "    game()\n",
    "\n",
    "main()"
   ]
  },
  {
   "cell_type": "code",
   "execution_count": null,
   "metadata": {},
   "outputs": [],
   "source": []
  }
 ]
}