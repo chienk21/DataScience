{
 "metadata": {
  "language_info": {
   "codemirror_mode": {
    "name": "ipython",
    "version": 3
   },
   "file_extension": ".py",
   "mimetype": "text/x-python",
   "name": "python",
   "nbconvert_exporter": "python",
   "pygments_lexer": "ipython3",
   "version": "3.9.1-final"
  },
  "orig_nbformat": 2,
  "kernelspec": {
   "name": "python3",
   "display_name": "Python 3.9.1 64-bit",
   "metadata": {
    "interpreter": {
     "hash": "7812ea015bdcee6f23a998adcdd2ef97c151c0c241b7b7070987d9313e41299d"
    }
   }
  }
 },
 "nbformat": 4,
 "nbformat_minor": 2,
 "cells": [
  {
   "source": [
    "Create a list of words, we pick one random word, we ask the user to guess that word\n",
    "input, random, time to delay\n",
    "\n",
    "GAME RULES: shows the user the list of words depending on level of difficulty chosen, gives the user 5 tries to guess the word and the user can input one letter or multiple letters,\n",
    "each time the user attempts to guess the turns will decrease until they guess correctly\n"
   ],
   "cell_type": "markdown",
   "metadata": {}
  },
  {
   "source": [
    "`game_data` retrieves the list of words from the RandomFile based on the level of difficulty the user inputs. We want to import the random and time modules for the game to prompt the user with a random word and have a delay at the end."
   ],
   "cell_type": "markdown",
   "metadata": {}
  },
  {
   "cell_type": "code",
   "execution_count": 8,
   "metadata": {},
   "outputs": [],
   "source": [
    "import random\n",
    "import time\n",
    "\n",
    "#retrieves the words from a file\n",
    "def game_data(levelOfDifficulty):\n",
    "    file1 = open(\"RandomFile.txt\",\"r\")\n",
    "    lines = file1.readlines()\n",
    "    #returns a list of words\n",
    "    #each line in the file is considered an element (1st line is 0 index, etc.)\n",
    "    return(lines[levelOfDifficulty-1].strip().split(\",\"))"
   ]
  },
  {
   "source": [
    "`game` is defined for the main part of the program that is running the game.  \n",
    "Prompt the user to input their name."
   ],
   "cell_type": "markdown",
   "metadata": {}
  },
  {
   "cell_type": "code",
   "execution_count": 9,
   "metadata": {},
   "outputs": [
    {
     "output_type": "stream",
     "name": "stdout",
     "text": [
      "kaylee\n"
     ]
    }
   ],
   "source": [
    "def game():\n",
    "    name = input(\"What is your name? \")\n",
    "    print(name)\n",
    "game()"
   ]
  },
  {
   "source": [
    "Ask the user if they want to play the game.\n"
   ],
   "cell_type": "markdown",
   "metadata": {}
  },
  {
   "cell_type": "code",
   "execution_count": 30,
   "metadata": {},
   "outputs": [
    {
     "output_type": "stream",
     "name": "stdout",
     "text": [
      "\n"
     ]
    }
   ],
   "source": [
    "def game():\n",
    "    #name = input(\"What is your name? \")\n",
    "\n",
    "    # create a list of words\n",
    "    # pick a random word\n",
    "    # the user to guess\n",
    "\n",
    "    # print(name,end=', ')\n",
    "    game = input(\"do you want to play? (yes or no) \")\n",
    "    print(game)\n",
    "game()\n"
   ]
  },
  {
   "source": [
    "Going into the while loop if the user says they want to play, the user is prompted to choose a level.  \n",
    "The level_list variable calls the `game_data` function, which retrieves a list of the words from the corresponding level. "
   ],
   "cell_type": "markdown",
   "metadata": {}
  },
  {
   "cell_type": "code",
   "execution_count": 8,
   "metadata": {},
   "outputs": [
    {
     "output_type": "stream",
     "name": "stdout",
     "text": [
      "level 2 was chosen\n['python', 'java', 'php', 'ram', 'computer', 'keyboard']\n"
     ]
    }
   ],
   "source": [
    "import random\n",
    "import time\n",
    "\n",
    "#retrieves the words from a file\n",
    "def game_data(levelOfDifficulty):\n",
    "    file1 = open(\"RandomFile.txt\",\"r\")\n",
    "    lines = file1.readlines()\n",
    "    #returns a list of words\n",
    "    #each line in the file is considered an element (1st line is 0 index, etc.)\n",
    "    return(lines[levelOfDifficulty-1].strip().split(\",\"))\n",
    "\n",
    "def game():\n",
    "    # ask user for information\n",
    "    name = input(\"What is your name? \")\n",
    "\n",
    "    # create a list of words\n",
    "    # pick a random word\n",
    "    # the user to guess\n",
    "    #print(name,end=', ')\n",
    "    game = input(\"do you want to play? \")\n",
    "\n",
    "    while game == 'yes':\n",
    "        levelOfDifficulty = int(input(\"Which level do you want to play? (1- easy, 2- medium, 3- hard) \"))\n",
    "        #calls the game_data function which returns the list of words\n",
    "        level_list = game_data(levelOfDifficulty)\n",
    "        print(\"level \" + str(levelOfDifficulty) + \" was chosen\")\n",
    "        print(level_list)\n",
    "        break\n",
    "\n",
    "game()"
   ]
  },
  {
   "source": [
    "The `random.choice()` function allows us to get a random word from the list of words.  "
   ],
   "cell_type": "markdown",
   "metadata": {}
  },
  {
   "cell_type": "code",
   "execution_count": 55,
   "metadata": {},
   "outputs": [
    {
     "output_type": "stream",
     "name": "stdout",
     "text": [
      "kaylee, ram\n"
     ]
    }
   ],
   "source": [
    "import random\n",
    "import time\n",
    "\n",
    "#retrieves the words from a file\n",
    "def game_data(levelOfDifficulty):\n",
    "    file1 = open(\"RandomFile.txt\",\"r\")\n",
    "    lines = file1.readlines()\n",
    "    #returns a list of words\n",
    "    #each line in the file is considered an element (1st line is 0 index, etc.)\n",
    "    return(lines[levelOfDifficulty-1].strip().split(\",\"))\n",
    "\n",
    "def game():\n",
    "    # ask user for information\n",
    "    name = input(\"What is your name? \")\n",
    "\n",
    "    # create a list of words\n",
    "    # pick a random word\n",
    "    # the user to guess\n",
    "    #print(name,end=', ')\n",
    "    game = input(\"do you want to play? \")\n",
    "\n",
    "    while game == 'yes':\n",
    "        levelOfDifficulty = int(input(\"Which level do you want to play? (1- easy, 2- medium, 3- hard) \"))\n",
    "        #calls the game_data function which returns the list of words\n",
    "        level_list = game_data(levelOfDifficulty)\n",
    "        #getting the random word\n",
    "        randomWord = random.choice(level_list)\n",
    "        print(randomWord)\n",
    "        break\n",
    "\n",
    "game()"
   ]
  },
  {
   "source": [
    "Just to show that this random function actually works, when we run it again, it will give us a different word this time!  "
   ],
   "cell_type": "markdown",
   "metadata": {}
  },
  {
   "source": [
    "Now we have initialized a few variables, guess, turns, won, and hit. Guess tracks each character the user guesses, turns is the number of turns the user has to guess the word correctly, won tracks whether or not the user has won or not, and hit accounts for the characters the user actually guesses correctly. "
   ],
   "cell_type": "markdown",
   "metadata": {}
  },
  {
   "cell_type": "code",
   "execution_count": 59,
   "metadata": {},
   "outputs": [
    {
     "output_type": "stream",
     "name": "stdout",
     "text": [
      "kaylee , you have 5 turns to guess the word\n"
     ]
    }
   ],
   "source": [
    "import random\n",
    "import time\n",
    "\n",
    "#retrieves the words from a file\n",
    "def game_data(levelOfDifficulty):\n",
    "    file1 = open(\"RandomFile.txt\",\"r\")\n",
    "    lines = file1.readlines()\n",
    "    #returns a list of words\n",
    "    #each line in the file is considered an element (1st line is 0 index, etc.)\n",
    "    return(lines[levelOfDifficulty-1].strip().split(\",\"))\n",
    "\n",
    "def game():\n",
    "    # ask user for information\n",
    "    name = input(\"What is your name? \")\n",
    "\n",
    "    # create a list of words\n",
    "    # pick a random word\n",
    "    # the user to guess\n",
    "    #print(name,end=', ')\n",
    "    game = input(\"do you want to play? \")\n",
    "\n",
    "    while game == 'yes':\n",
    "        levelOfDifficulty = int(input(\"Which level do you want to play? (1- easy, 2- medium, 3- hard) \"))\n",
    "        #calls the game_data function which returns the list of words\n",
    "        level_list = game_data(levelOfDifficulty)\n",
    "        #getting the random word\n",
    "        randomWord = random.choice(level_list)\n",
    "        print(randomWord)\n",
    "\n",
    "        guess = ''\n",
    "        turns = 5\n",
    "        won = False\n",
    "        #tracks only the right guesses\n",
    "        hit = ''\n",
    "\n",
    "        print (name, \", you have 5 turns to guess the word\")\n",
    "        break\n",
    "game()"
   ]
  },
  {
   "source": [
    "In the while loop of the actual prompting of the game, the user is prompted to guess the word. In the beginning, the program prints underscores in the place of each character in the word generated. Each time the user guesses the character right, the character will take the place of the underscore.  "
   ],
   "cell_type": "markdown",
   "metadata": {}
  },
  {
   "source": [
    "Now it's time to play the game!"
   ],
   "cell_type": "markdown",
   "metadata": {}
  },
  {
   "cell_type": "code",
   "execution_count": 2,
   "metadata": {},
   "outputs": [
    {
     "output_type": "stream",
     "name": "stdout",
     "text": [
      "kaylee , you have 5 turns to guess the word\n",
      "_ _ _ _ _ kaylee, guess: a\n",
      "you have  4  turn(s) left\n",
      "_ _ _ _ _ kaylee, guess: b\n",
      "you have  3  turn(s) left\n",
      "b _ _ _ _ kaylee, guess: e\n",
      "you have  2  turn(s) left\n",
      "b e _ _ _ kaylee, guess: k\n",
      "you have  1  turn(s) left\n",
      "b e _ _ _ kaylee, guess: l\n",
      "you have  0  turn(s) left\n",
      "You lost!\n",
      "The word was: berry\n",
      "kaylee, come back anytime!\n"
     ]
    }
   ],
   "source": [
    "import random\n",
    "import time\n",
    "\n",
    "#retrieves the words from a file\n",
    "def game_data(levelOfDifficulty):\n",
    "    file1 = open(\"RandomFile.txt\",\"r\")\n",
    "    lines = file1.readlines()\n",
    "    #returns a list of words\n",
    "    #each line in the file is considered an element (1st line is 0 index, etc.)\n",
    "    return(lines[levelOfDifficulty-1].strip().split(\",\"))\n",
    "\n",
    "def game():\n",
    "    # ask user for information\n",
    "    name = input(\"What is your name? \")\n",
    "\n",
    "    # create a list of words\n",
    "    # pick a random word\n",
    "    # the user to guess\n",
    "    #print(name,end=', ')\n",
    "    game = input(\"do you want to play? (yes or no)\")\n",
    "\n",
    "    while game == 'yes':\n",
    "        levelOfDifficulty = int(input(\"Which level do you want to play? (1- easy, 2- medium, 3- hard) \"))\n",
    "        #calls the game_data function which returns the list of words\n",
    "        level_list = game_data(levelOfDifficulty)\n",
    "        #print(\"Here are the words to guess from: \", level_list)\n",
    "        #getting the random word\n",
    "        randomWord = random.choice(level_list)\n",
    "\n",
    "        guess = ''\n",
    "        turns = 5\n",
    "        won = False\n",
    "        #tracks only the right guesses\n",
    "        hit = ''\n",
    "\n",
    "        print (name, \", you have 5 turns to guess the word\")\n",
    "        while turns > 0:\n",
    "            for char in randomWord:\n",
    "                if char in guess:\n",
    "                    print(char, end=' ')\n",
    "                    #Need to record the 'hit' from the guess so the wrong guess will be excluded\n",
    "                    hit += char\n",
    "                else:\n",
    "                    print('_', end=' ')\n",
    "\n",
    "            #adds letter to the output of the game and if you guessed right then breaks out of loop and prints congrats\n",
    "            if not won:\n",
    "                guess = hit \n",
    "                print(name, end=', ')\n",
    "                letter = input(\"please give me a letter or letters: \")\n",
    "                print(\"guess: \" + letter)\n",
    "                guess +=letter\n",
    "            else:\n",
    "                print(\"\\nCongratulations! You guessed the word correctly!\")\n",
    "                turns = 0\n",
    "                break \n",
    "            \n",
    "            #compares the randomWord with the correct guessed values using sets which are \n",
    "            if sorted(''.join(set(randomWord))) == sorted(''.join(set(guess))): \n",
    "                #if the user guesses the word, we need to set won to true\n",
    "                won = True\n",
    "            else: \n",
    "                turns -= 1\n",
    "                print(\"you have \", str(turns), \" turn(s) left\")\n",
    "            \n",
    "            if turns == 0:\n",
    "                print(\"You lost!\")\n",
    "                print(\"The word was: \" + randomWord)\n",
    "\n",
    "        game = input(name + \" do you want to play again? (yes or no)\")\n",
    "\n",
    "    print(name + \", come back anytime!\")\n",
    "    time.sleep(2)\n",
    "game()"
   ]
  }
 ]
}