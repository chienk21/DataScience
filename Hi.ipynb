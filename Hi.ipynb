{
 "metadata": {
  "language_info": {
   "codemirror_mode": {
    "name": "ipython",
    "version": 3
   },
   "file_extension": ".py",
   "mimetype": "text/x-python",
   "name": "python",
   "nbconvert_exporter": "python",
   "pygments_lexer": "ipython3",
   "version": "3.9.1-final"
  },
  "orig_nbformat": 2,
  "kernelspec": {
   "name": "python3",
   "display_name": "Python 3.9.1 64-bit",
   "metadata": {
    "interpreter": {
     "hash": "7812ea015bdcee6f23a998adcdd2ef97c151c0c241b7b7070987d9313e41299d"
    }
   }
  }
 },
 "nbformat": 4,
 "nbformat_minor": 2,
 "cells": [
  {
   "cell_type": "code",
   "execution_count": null,
   "metadata": {},
   "outputs": [],
   "source": [
    "3*4+5"
   ]
  },
  {
   "cell_type": "code",
   "execution_count": 2,
   "metadata": {},
   "outputs": [
    {
     "output_type": "execute_result",
     "data": {
      "text/plain": [
       "31536000"
      ]
     },
     "metadata": {},
     "execution_count": 2
    }
   ],
   "source": [
    "365*24*60*60 "
   ]
  },
  {
   "cell_type": "code",
   "execution_count": 1,
   "metadata": {},
   "outputs": [
    {
     "output_type": "stream",
     "name": "stdout",
     "text": [
      "hello\n"
     ]
    }
   ],
   "source": [
    "print(\"hello\")"
   ]
  },
  {
   "cell_type": "code",
   "execution_count": 3,
   "metadata": {},
   "outputs": [
    {
     "output_type": "stream",
     "name": "stdout",
     "text": [
      "35\n"
     ]
    }
   ],
   "source": [
    "x = 5\n",
    "y = 7\n",
    "z = x*y\n",
    "print(z)"
   ]
  },
  {
   "cell_type": "code",
   "execution_count": 7,
   "metadata": {},
   "outputs": [
    {
     "output_type": "execute_result",
     "data": {
      "text/plain": [
       "9"
      ]
     },
     "metadata": {},
     "execution_count": 7
    }
   ],
   "source": [
    "3+6"
   ]
  },
  {
   "source": [
    "# hello there \n",
    "## hello\n",
    "**hello**\n",
    "hello"
   ],
   "cell_type": "markdown",
   "metadata": {}
  },
  {
   "source": [
    "*italics*\n",
    "- [ ] To Do\n",
    "- [X] To Do\n",
    "\n",
    "# Header 1\n",
    "##  Header 2\n",
    "### Header 3\n",
    "####    Header 4\n",
    "#####   Header 5\n",
    "\n",
    "\\*literal asterisks\\*\n",
    "\n",
    "~~strikethrough~~\n",
    "\n",
    "\n",
    "A \n",
    "Line   \n",
    "Break\n",
    " \n",
    " ___\n",
    " ***\n",
    " |Left |Center|Right|\n",
    " |:-----|:---:|----:|\n",
    " |1.    |A    |C.   |\n",
    " |2.    |B.   |D.   |\n",
    " \n",
    "\n",
    "1. First item\n",
    "2. Second item\n",
    "    1. Subitem\n",
    "\n",
    "\n",
    "\n",
    "\n",
    "*   item1\n",
    " Indent\n",
    "-   Item 2\n",
    " + Item 3\n",
    "\n",
    " <a id=\"anchor\"></a>\n",
    "[Go to anchor](#anchor)\n",
    "\n",
    "\n",
    "[Link](https://sqlbak.com\n",
    "\"optional title\")\n",
    "\n",
    "> blockquote text\n",
    "\n",
    "```python\n",
    "print('hello');\n",
    "```\n",
    "\n",
    "![alt text](logo.png \"Title\")\n",
    "![][id]\n",
    "[id]:logo.png \"Title\"\n",
    "\n",
    "$$\\sqrt{k}$$\n",
    "\n",
    "[![Img Alt\n",
    "Text](http://img.youtube.com/vi/\n",
    "aZCXOw707nc/0.jpg)](https://youtu.be/aZCXOw707nc \"Video Title\")"
   ],
   "cell_type": "markdown",
   "metadata": {}
  },
  {
   "cell_type": "code",
   "execution_count": 1,
   "metadata": {},
   "outputs": [],
   "source": []
  }
 ]
}